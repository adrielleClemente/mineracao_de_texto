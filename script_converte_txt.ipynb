{
 "cells": [
  {
   "cell_type": "code",
   "execution_count": 3,
   "id": "06d4bdc4-faae-4e93-8caf-5a11c81136cb",
   "metadata": {},
   "outputs": [],
   "source": [
    "import PyPDF2\n"
   ]
  },
  {
   "cell_type": "code",
   "execution_count": 4,
   "id": "80dc14d6-71c9-4ac7-b869-1130520dcfa8",
   "metadata": {},
   "outputs": [
    {
     "name": "stdout",
     "output_type": "stream",
     "text": [
      "PDF convertido para TXT com sucesso!\n"
     ]
    }
   ],
   "source": [
    "\n",
    "#arquivo PDF em modo de leitura binária\n",
    "with open('Data_Science_do_zero.pdf', 'rb') as pdf_file:\n",
    "    pdf_reader = PyPDF2.PdfReader(pdf_file)\n",
    "\n",
    "    #string vazia para armazenar o texto extraído\n",
    "    text = \"\"\n",
    "\n",
    "    # páginas do PDF\n",
    "    for page_num in range(len(pdf_reader.pages)):\n",
    "        page = pdf_reader.pages[page_num]\n",
    "        text += page.extract_text()\n",
    "\n",
    "#texto extraído em um arquivo TXT\n",
    "with open('livro_data.txt', 'w', encoding='utf-8') as txt_file:\n",
    "    txt_file.write(text)\n",
    "\n",
    "print('PDF convertido para TXT com sucesso!')"
   ]
  },
  {
   "cell_type": "code",
   "execution_count": null,
   "id": "fa011735-9771-4615-9ecf-7c84dea9c4da",
   "metadata": {},
   "outputs": [],
   "source": []
  }
 ],
 "metadata": {
  "kernelspec": {
   "display_name": "Python 3 (ipykernel)",
   "language": "python",
   "name": "python3"
  },
  "language_info": {
   "codemirror_mode": {
    "name": "ipython",
    "version": 3
   },
   "file_extension": ".py",
   "mimetype": "text/x-python",
   "name": "python",
   "nbconvert_exporter": "python",
   "pygments_lexer": "ipython3",
   "version": "3.11.4"
  }
 },
 "nbformat": 4,
 "nbformat_minor": 5
}
